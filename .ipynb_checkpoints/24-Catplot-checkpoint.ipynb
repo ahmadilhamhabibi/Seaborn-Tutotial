{
 "cells": [
  {
   "cell_type": "markdown",
   "id": "335b8202",
   "metadata": {},
   "source": [
    "# Catplot"
   ]
  },
  {
   "cell_type": "code",
   "execution_count": 1,
   "id": "71ecf32f",
   "metadata": {},
   "outputs": [],
   "source": [
    "import seaborn as sns\n",
    "import matplotlib.pyplot as plt"
   ]
  },
  {
   "cell_type": "code",
   "execution_count": 2,
   "id": "5e08d8ae",
   "metadata": {},
   "outputs": [],
   "source": [
    "cars = sns.load_dataset(\"mpg\").dropna()\n",
    "\n",
    "cars = cars[cars.cylinders.isin([4,6,8])]\n",
    "\n",
    "cars[\"type\"] = [\"old\" if x <= 76 else \"new\" for x in cars.model_year]"
   ]
  },
  {
   "cell_type": "code",
   "execution_count": 3,
   "id": "deadbfa9",
   "metadata": {},
   "outputs": [
    {
     "data": {
      "text/html": [
       "<div>\n",
       "<style scoped>\n",
       "    .dataframe tbody tr th:only-of-type {\n",
       "        vertical-align: middle;\n",
       "    }\n",
       "\n",
       "    .dataframe tbody tr th {\n",
       "        vertical-align: top;\n",
       "    }\n",
       "\n",
       "    .dataframe thead th {\n",
       "        text-align: right;\n",
       "    }\n",
       "</style>\n",
       "<table border=\"1\" class=\"dataframe\">\n",
       "  <thead>\n",
       "    <tr style=\"text-align: right;\">\n",
       "      <th></th>\n",
       "      <th>mpg</th>\n",
       "      <th>cylinders</th>\n",
       "      <th>displacement</th>\n",
       "      <th>horsepower</th>\n",
       "      <th>weight</th>\n",
       "      <th>acceleration</th>\n",
       "      <th>model_year</th>\n",
       "      <th>origin</th>\n",
       "      <th>name</th>\n",
       "      <th>type</th>\n",
       "    </tr>\n",
       "  </thead>\n",
       "  <tbody>\n",
       "    <tr>\n",
       "      <th>0</th>\n",
       "      <td>18.0</td>\n",
       "      <td>8</td>\n",
       "      <td>307.0</td>\n",
       "      <td>130.0</td>\n",
       "      <td>3504</td>\n",
       "      <td>12.0</td>\n",
       "      <td>70</td>\n",
       "      <td>usa</td>\n",
       "      <td>chevrolet chevelle malibu</td>\n",
       "      <td>old</td>\n",
       "    </tr>\n",
       "    <tr>\n",
       "      <th>1</th>\n",
       "      <td>15.0</td>\n",
       "      <td>8</td>\n",
       "      <td>350.0</td>\n",
       "      <td>165.0</td>\n",
       "      <td>3693</td>\n",
       "      <td>11.5</td>\n",
       "      <td>70</td>\n",
       "      <td>usa</td>\n",
       "      <td>buick skylark 320</td>\n",
       "      <td>old</td>\n",
       "    </tr>\n",
       "    <tr>\n",
       "      <th>2</th>\n",
       "      <td>18.0</td>\n",
       "      <td>8</td>\n",
       "      <td>318.0</td>\n",
       "      <td>150.0</td>\n",
       "      <td>3436</td>\n",
       "      <td>11.0</td>\n",
       "      <td>70</td>\n",
       "      <td>usa</td>\n",
       "      <td>plymouth satellite</td>\n",
       "      <td>old</td>\n",
       "    </tr>\n",
       "    <tr>\n",
       "      <th>3</th>\n",
       "      <td>16.0</td>\n",
       "      <td>8</td>\n",
       "      <td>304.0</td>\n",
       "      <td>150.0</td>\n",
       "      <td>3433</td>\n",
       "      <td>12.0</td>\n",
       "      <td>70</td>\n",
       "      <td>usa</td>\n",
       "      <td>amc rebel sst</td>\n",
       "      <td>old</td>\n",
       "    </tr>\n",
       "    <tr>\n",
       "      <th>4</th>\n",
       "      <td>17.0</td>\n",
       "      <td>8</td>\n",
       "      <td>302.0</td>\n",
       "      <td>140.0</td>\n",
       "      <td>3449</td>\n",
       "      <td>10.5</td>\n",
       "      <td>70</td>\n",
       "      <td>usa</td>\n",
       "      <td>ford torino</td>\n",
       "      <td>old</td>\n",
       "    </tr>\n",
       "  </tbody>\n",
       "</table>\n",
       "</div>"
      ],
      "text/plain": [
       "    mpg  cylinders  displacement  horsepower  weight  acceleration  \\\n",
       "0  18.0          8         307.0       130.0    3504          12.0   \n",
       "1  15.0          8         350.0       165.0    3693          11.5   \n",
       "2  18.0          8         318.0       150.0    3436          11.0   \n",
       "3  16.0          8         304.0       150.0    3433          12.0   \n",
       "4  17.0          8         302.0       140.0    3449          10.5   \n",
       "\n",
       "   model_year origin                       name type  \n",
       "0          70    usa  chevrolet chevelle malibu  old  \n",
       "1          70    usa          buick skylark 320  old  \n",
       "2          70    usa         plymouth satellite  old  \n",
       "3          70    usa              amc rebel sst  old  \n",
       "4          70    usa                ford torino  old  "
      ]
     },
     "execution_count": 3,
     "metadata": {},
     "output_type": "execute_result"
    }
   ],
   "source": [
    "cars.head()"
   ]
  },
  {
   "cell_type": "code",
   "execution_count": 4,
   "id": "598746dc",
   "metadata": {},
   "outputs": [
    {
     "data": {
      "text/plain": [
       "(385, 10)"
      ]
     },
     "execution_count": 4,
     "metadata": {},
     "output_type": "execute_result"
    }
   ],
   "source": [
    "cars.shape"
   ]
  },
  {
   "cell_type": "markdown",
   "id": "0d21597e",
   "metadata": {},
   "source": [
    "## Basics"
   ]
  },
  {
   "cell_type": "code",
   "execution_count": 5,
   "id": "4a066aa3",
   "metadata": {},
   "outputs": [],
   "source": [
    "sns.set_style(\"white\")"
   ]
  },
  {
   "cell_type": "code",
   "execution_count": 6,
   "id": "dcd6411b",
   "metadata": {},
   "outputs": [
    {
     "data": {
      "text/plain": [
       "<seaborn.axisgrid.FacetGrid at 0x25c8b91e460>"
      ]
     },
     "execution_count": 6,
     "metadata": {},
     "output_type": "execute_result"
    },
    {
     "data": {
      "image/png": "[encoded data removed]",
      "text/plain": [
       "<Figure size 360x360 with 1 Axes>"
      ]
     },
     "metadata": {},
     "output_type": "display_data"
    }
   ],
   "source": [
    "sns.catplot(data=cars, x=\"horsepower\")"
   ]
  },
  {
   "cell_type": "code",
   "execution_count": 7,
   "id": "135c89ce",
   "metadata": {},
   "outputs": [
    {
     "data": {
      "text/plain": [
       "<seaborn.axisgrid.FacetGrid at 0x25c8c9f7eb0>"
      ]
     },
     "execution_count": 7,
     "metadata": {},
     "output_type": "execute_result"
    },
    {
     "data": {
      "image/png": "[encoded data removed]",
      "text/plain": [
       "<Figure size 360x360 with 1 Axes>"
      ]
     },
     "metadata": {},
     "output_type": "display_data"
    }
   ],
   "source": [
    "sns.catplot(data=cars, y=\"horsepower\")"
   ]
  },
  {
   "cell_type": "markdown",
   "id": "213db9b8",
   "metadata": {},
   "source": [
    "### kind"
   ]
  },
  {
   "cell_type": "code",
   "execution_count": 8,
   "id": "d91e954f",
   "metadata": {},
   "outputs": [
    {
     "data": {
      "text/plain": [
       "<seaborn.axisgrid.FacetGrid at 0x25c8c9f7f40>"
      ]
     },
     "execution_count": 8,
     "metadata": {},
     "output_type": "execute_result"
    },
    {
     "data": {
      "image/png": "[encoded data removed]",
      "text/plain": [
       "<Figure size 360x360 with 1 Axes>"
      ]
     },
     "metadata": {},
     "output_type": "display_data"
    }
   ],
   "source": [
    "sns.catplot(data=cars, x=\"horsepower\", kind=\"box\")"
   ]
  },
  {
   "cell_type": "code",
   "execution_count": null,
   "id": "90d91d4d",
   "metadata": {},
   "outputs": [],
   "source": [
    "sns.catplot(data=cars, x=\"horsepower\", kind=\"violin\")"
   ]
  },
  {
   "cell_type": "markdown",
   "id": "67df7011",
   "metadata": {},
   "source": [
    "## Categorical Variables, Hue"
   ]
  },
  {
   "cell_type": "code",
   "execution_count": null,
   "id": "791e4fdb",
   "metadata": {},
   "outputs": [],
   "source": [
    "sns.catplot(data=cars, x=\"origin\", y=\"horsepower\", kind=\"box\")"
   ]
  },
  {
   "cell_type": "code",
   "execution_count": null,
   "id": "270170f7",
   "metadata": {},
   "outputs": [],
   "source": [
    "sns.catplot(data=cars, x=\"origin\", y=\"horsepower\", kind=\"box\",\n",
    "            hue=\"cylinders\")"
   ]
  },
  {
   "cell_type": "code",
   "execution_count": null,
   "id": "aaac9761",
   "metadata": {},
   "outputs": [],
   "source": [
    "sns.catplot(data=cars, x=\"origin\", y=\"horsepower\", \n",
    "            kind=\"strip\",\n",
    "            hue=\"cylinders\")"
   ]
  },
  {
   "cell_type": "markdown",
   "id": "faa57d03",
   "metadata": {},
   "source": [
    "## Small Multiples (FacetGrid)"
   ]
  },
  {
   "cell_type": "code",
   "execution_count": null,
   "id": "adc3973f",
   "metadata": {},
   "outputs": [],
   "source": [
    "sns.set_style(\"darkgrid\")"
   ]
  },
  {
   "cell_type": "markdown",
   "id": "cf5e7137",
   "metadata": {},
   "source": [
    "### ``row``, ``col``"
   ]
  },
  {
   "cell_type": "code",
   "execution_count": null,
   "id": "03a9c5e8",
   "metadata": {},
   "outputs": [],
   "source": [
    "sns.catplot(data=cars, x=\"cylinders\", y=\"horsepower\",\n",
    "            kind=\"box\",\n",
    "            col=\"origin\")"
   ]
  },
  {
   "cell_type": "code",
   "execution_count": null,
   "id": "7759521e",
   "metadata": {},
   "outputs": [],
   "source": [
    "sns.catplot(data=cars, x=\"cylinders\", y=\"horsepower\",\n",
    "            kind=\"strip\",\n",
    "            col=\"origin\")"
   ]
  },
  {
   "cell_type": "code",
   "execution_count": null,
   "id": "4d96b89f",
   "metadata": {},
   "outputs": [],
   "source": [
    "sns.catplot(data=cars, x=\"cylinders\", y=\"horsepower\",\n",
    "            kind=\"strip\",\n",
    "            col=\"origin\",\n",
    "            row=\"type\")"
   ]
  },
  {
   "cell_type": "markdown",
   "id": "da235f66",
   "metadata": {},
   "source": [
    "### ``row_order``"
   ]
  },
  {
   "cell_type": "code",
   "execution_count": null,
   "id": "f91ab3b9",
   "metadata": {},
   "outputs": [],
   "source": [
    "sns.catplot(data=cars, x=\"cylinders\", y=\"horsepower\",\n",
    "            kind=\"strip\",\n",
    "            col=\"origin\",\n",
    "            row=\"type\",\n",
    "            row_order=[\"new\", \"old\"])"
   ]
  },
  {
   "cell_type": "markdown",
   "id": "277578c6",
   "metadata": {},
   "source": [
    "## Styling"
   ]
  },
  {
   "cell_type": "markdown",
   "id": "3a7f5836",
   "metadata": {},
   "source": [
    "In general, additional keyword arguments will be passed to the kind of plot selected."
   ]
  },
  {
   "cell_type": "code",
   "execution_count": null,
   "id": "ebf45bb3",
   "metadata": {},
   "outputs": [],
   "source": [
    "sns.catplot(data=cars, x=\"cylinders\", y=\"horsepower\",\n",
    "            kind=\"box\",\n",
    "            col=\"origin\",\n",
    "            palette=\"winter\",\n",
    "            whis=1)"
   ]
  },
  {
   "cell_type": "code",
   "execution_count": null,
   "id": "81f690bd",
   "metadata": {},
   "outputs": [],
   "source": [
    "sns.catplot(data=cars, x=\"cylinders\", y=\"horsepower\",\n",
    "            kind=\"strip\",\n",
    "            col=\"origin\",\n",
    "            s=12,\n",
    "            alpha=0.3,\n",
    "            linewidth=2)"
   ]
  },
  {
   "cell_type": "markdown",
   "id": "771180ad",
   "metadata": {},
   "source": [
    "### FaceGrid Styling"
   ]
  },
  {
   "cell_type": "code",
   "execution_count": null,
   "id": "1444d591",
   "metadata": {},
   "outputs": [],
   "source": [
    "g = sns.catplot(data=cars, x=\"cylinders\", y=\"horsepower\",\n",
    "            kind=\"box\",\n",
    "            col=\"origin\")"
   ]
  },
  {
   "cell_type": "code",
   "execution_count": null,
   "id": "59303eb1",
   "metadata": {},
   "outputs": [],
   "source": [
    "type(g)"
   ]
  },
  {
   "cell_type": "code",
   "execution_count": null,
   "id": "15615d25",
   "metadata": {},
   "outputs": [],
   "source": [
    "sns.set(style=\"darkgrid\", font_scale=1.5)\n",
    "\n",
    "g = sns.catplot(data=cars, x=\"cylinders\", y=\"horsepower\",\n",
    "            kind=\"box\",\n",
    "            col=\"origin\")\n",
    "\n",
    "g.set_titles(col_template=\"{col_name} cars\")"
   ]
  },
  {
   "cell_type": "code",
   "execution_count": null,
   "id": "4c4f5877",
   "metadata": {},
   "outputs": [],
   "source": []
  }
 ],
 "metadata": {
  "kernelspec": {
   "display_name": "Python 3",
   "language": "python",
   "name": "python3"
  },
  "language_info": {
   "codemirror_mode": {
    "name": "ipython",
    "version": 3
   },
   "file_extension": ".py",
   "mimetype": "text/x-python",
   "name": "python",
   "nbconvert_exporter": "python",
   "pygments_lexer": "ipython3",
   "version": "3.8.8"
  }
 },
 "nbformat": 4,
 "nbformat_minor": 5
}
